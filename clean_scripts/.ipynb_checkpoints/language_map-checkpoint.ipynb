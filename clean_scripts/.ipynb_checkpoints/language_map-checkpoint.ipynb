{
 "cells": [
  {
   "cell_type": "code",
   "execution_count": null,
   "metadata": {},
   "outputs": [],
   "source": [
    "import pandas as pd"
   ]
  },
  {
   "cell_type": "code",
   "execution_count": null,
   "metadata": {},
   "outputs": [],
   "source": [
    "phone_device=pd.read_csv(\"../data/phone_brand_device_model.csv\")\n",
    "# phone_device"
   ]
  },
  {
   "cell_type": "code",
   "execution_count": null,
   "metadata": {},
   "outputs": [],
   "source": [
    "lang_info=pd.Series(['HTC HTC','LG LG','索尼 Sony_Corportation','金立 Gione','中兴 Zte','魅族 meizu','OPPO OPPO','酷派 Coolpad_group_limited','vivo vivo','SUGAR SUGAR','华为 Huawei','小米 Xiaomi','三星 samsung', '天语 Ktouch', '海信 hisense', '联想 lenovo', '欧比 obi','爱派尔 ipair','努比亚 nubia',\\\n",
    "\n",
    "'优米 youmi', '朵唯 dowe', '黑米 heymi', '锤子 hammer','酷比魔方 koobee', '美图 meitu', '尼比鲁 nibilu', '一加 oneplus', '优购 yougo', '诺基亚 nokia', '糖葫芦 candy', '中国移动 ccmc',\\\n",
    "\n",
    "'语信 yuxin', '基伍 kiwu', '青橙 greeno', '华硕 asus', '夏新 panosonic', '维图 weitu', '艾优尼 aiyouni', '摩托罗拉 moto',\\\n",
    "\n",
    "'乡米 xiangmi', '米奇 micky', '大可乐 bigcola', '沃普丰 wpf','神舟 hasse', '摩乐 mole', '飞秒 fs', '米歌 mige', '富可视 fks',\\\n",
    "\n",
    "'德赛 desci', '梦米 mengmi', '乐视 lshi', '小杨树 smallt', '纽曼 newman', '邦华 banghua', 'E派 epai', '普耐尔 pner',\\\n",
    "\n",
    "'欧新 ouxin', '西米 ximi', '海尔 haier', '波导 bodao','糯米 nuomi', '唯米 weimi', '酷珀 kupo', '谷歌 google', '昂达 ada', '聆韵 lingyun' \\\n",
    "\n",
    "                    ])\n",
    "\n",
    "lang_info_df=lang_info.to_frame()\n",
    "phone_brand_mod=lang_info_df[0].apply(lambda x: pd.Series([i for i in reversed(x.split(' '))]))\n",
    "phone_brand_mod=phone_brand_mod.rename(columns={0:'English Name',1:'Chinese Name'})\n",
    "# phone_brand_mod"
   ]
  },
  {
   "cell_type": "code",
   "execution_count": null,
   "metadata": {},
   "outputs": [],
   "source": [
    "# phone_brand_mod.to_csv(\"language_map.csv\")"
   ]
  },
  {
   "cell_type": "code",
   "execution_count": null,
   "metadata": {},
   "outputs": [],
   "source": [
    "p=phone_device.join(phone_brand_mod.set_index(\"Chinese Name\"),on=\"phone_brand\")\n",
    "p.dropna(inplace=True)\n",
    "p.rename(columns={'English Name':'phone_brand_mod'},inplace=True)\n",
    "p.drop(columns={\"phone_brand\"},inplace=True)\n",
    "p.rename(columns={'phone_brand_mod':'phone_brand'},inplace=True)\n",
    "p.head()\n",
    "p.to_csv(\"../modeled_data/phone_brand_device_model_mod.csv\", index=False)"
   ]
  },
  {
   "cell_type": "markdown",
   "metadata": {},
   "source": [
    "Done"
   ]
  },
  {
   "cell_type": "code",
   "execution_count": null,
   "metadata": {},
   "outputs": [],
   "source": [
    "pd.read_csv('../modeled_data/phone_brand_device_model_mod.csv').head()"
   ]
  },
  {
   "cell_type": "code",
   "execution_count": null,
   "metadata": {},
   "outputs": [],
   "source": [
    "phone_device.head()"
   ]
  },
  {
   "cell_type": "code",
   "execution_count": null,
   "metadata": {},
   "outputs": [],
   "source": [
    "phone_brand_mod.head()"
   ]
  },
  {
   "cell_type": "code",
   "execution_count": null,
   "metadata": {},
   "outputs": [],
   "source": [
    "p.head()"
   ]
  }
 ],
 "metadata": {
  "kernelspec": {
   "display_name": "Python 3",
   "language": "python",
   "name": "python3"
  },
  "language_info": {
   "codemirror_mode": {
    "name": "ipython",
    "version": 3
   },
   "file_extension": ".py",
   "mimetype": "text/x-python",
   "name": "python",
   "nbconvert_exporter": "python",
   "pygments_lexer": "ipython3",
   "version": "3.6.6"
  }
 },
 "nbformat": 4,
 "nbformat_minor": 2
}
