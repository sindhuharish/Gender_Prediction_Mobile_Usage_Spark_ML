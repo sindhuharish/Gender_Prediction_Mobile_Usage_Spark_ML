{
 "cells": [
  {
   "cell_type": "markdown",
   "metadata": {
    "scrolled": true,
    "slideshow": {
     "slide_type": "fragment"
    }
   },
   "source": [
    "## Demo"
   ]
  },
  {
   "cell_type": "code",
   "execution_count": 1,
   "metadata": {},
   "outputs": [],
   "source": [
    "# Import Packages\n",
    "import os\n",
    "import sys\n",
    "import pyspark\n",
    "from pyspark.sql import SparkSession\n",
    "from pyspark.sql import SQLContext\n",
    "import pandas as pd\n",
    "import sys\n",
    "import os\n",
    "from pyspark.sql.functions import isnan, when, count, col\n",
    "from pyspark.sql.functions import to_timestamp\n",
    "import time\n",
    "from pyspark.sql import functions as fn\n",
    "from pyspark.ml import feature, regression, Pipeline\n",
    "\n",
    "import datetime\n",
    "from pyspark.sql.functions import year, month, dayofmonth, hour, minute, second\n",
    "from pyspark.mllib.stat import Statistics\n",
    "import pandas as pd\n",
    "\n",
    "import matplotlib.pyplot as plt\n",
    "import numpy as np\n",
    "\n",
    "from pyspark.ml.tuning import CrossValidator, ParamGridBuilder\n",
    "\n",
    "from pyspark.sql.types import FloatType\n",
    "from pyspark.sql.types import IntegerType\n",
    "\n",
    "spark = SparkSession.builder.appName('demo').getOrCreate()\n",
    "\n",
    "sqlContext = SQLContext(spark.sparkContext)\n",
    "\n",
    "from pyspark.ml import Pipeline\n",
    "from pyspark.ml import feature\n",
    "from pyspark.ml import classification\n",
    "from pyspark.ml.evaluation import BinaryClassificationEvaluator, MulticlassClassificationEvaluator, RegressionEvaluator\n",
    "import ipywidgets\n",
    "from ipywidgets import widgets\n",
    "from ipywidgets import interact, interactive, fixed, interact_manual\n",
    "import ipywidgets as widgets\n",
    "from IPython.display import display\n",
    "import pandas as pd\n",
    "from IPython.core.interactiveshell import InteractiveShell\n",
    "InteractiveShell.ast_node_interactivity = \"all\""
   ]
  },
  {
   "cell_type": "markdown",
   "metadata": {},
   "source": [
    "## Function that Loads model based on user input"
   ]
  },
  {
   "cell_type": "code",
   "execution_count": 2,
   "metadata": {
    "scrolled": true,
    "slideshow": {
     "slide_type": "fragment"
    }
   },
   "outputs": [],
   "source": [
    "# Function to load the saved models in saved_models folder to make prediction on new data point\n",
    "def predict(device_id_options,\n",
    "    label_id_options,\n",
    "    app_id_options,\n",
    "    event_id_options,\n",
    "    is_active_options,\n",
    "    device_model_options,\n",
    "    phone_brand_options,\n",
    "    town_options,\n",
    "    country_options,\n",
    "    age_group_options,\n",
    "    time_of_day_options,\n",
    "    category_options,\n",
    "    model):\n",
    "    data = {'device_id': [device_id_options.value], \n",
    "        'label_id': [label_id_options.value],\n",
    "        'app_id': [app_id_options.value],\n",
    "        'event_id': [event_id_options.value],\n",
    "        'is_active': [is_active_options.value],\n",
    "        'device_model': [device_model_options.value],\n",
    "        'phone_brand': [phone_brand_options.value],\n",
    "        'town': [town_options.value],\n",
    "        'country': [country_options.value],\n",
    "        'age_group': [age_group_options.value],\n",
    "        'time_of_day': [time_of_day_options.value],\n",
    "        'category': [category_options.value]\n",
    "       }\n",
    "\n",
    "    df = pd.DataFrame(data)\n",
    "    ddf = spark.createDataFrame(df)\n",
    "\n",
    "    float_columns = ['device_id', 'app_id', 'label_id', 'event_id']\n",
    "    int_columns = ['is_active']\n",
    "    string_columns = ['phone_brand', 'device_model', 'town', 'country', 'category', 'time_of_day', 'age_group']\n",
    "\n",
    "    ddf = ddf.select(*(col(c).cast(\"float\").alias(c) for c in float_columns), \\\n",
    "                                                     *(col(c).cast(\"int\").alias(c) for c in int_columns), \\\n",
    "                                                     *(col(c).alias(c) for c in string_columns))\n",
    "\n",
    "    if model == 'logistic':\n",
    "        model_load = Pipeline.load(\"../saved_models/logistic\")\n",
    "    if model == 'random_forest':\n",
    "        model_load = Pipeline.load(\"../saved_models/random_forest\")\n",
    "    if model == 'gbt':\n",
    "        model_load = Pipeline.load(\"../saved_models/GBT\")\n",
    "    \n",
    "    train_data = spark.read.format('csv').option('header', 'true').load('../modeled_data/spark_data3.csv')\n",
    "\n",
    "    prediction = model_load.fit(train_data).transform(ddf)\n",
    "\n",
    "    return prediction.select('prediction').take(1)"
   ]
  },
  {
   "cell_type": "code",
   "execution_count": 3,
   "metadata": {
    "scrolled": true,
    "slideshow": {
     "slide_type": "fragment"
    }
   },
   "outputs": [],
   "source": [
    "# Load options\n",
    "data = spark.read.format('csv').option('header', 'true').load('../modeled_data/spark_data3.csv')\n",
    "data = data.toPandas()\n",
    "\n",
    "device_id_options = widgets.Dropdown(description = \"device_id\", options = data.device_id.unique(), value = None)\n",
    "label_id_options = widgets.Dropdown(description = \"label_id\", options = data.label_id.unique(), value = None)\n",
    "app_id_options = widgets.Dropdown(description = \"app_id\", options = data.app_id.unique(), value = None)\n",
    "event_id_options = widgets.Dropdown(description = \"event_id\", options = data.event_id.unique(), value = None)\n",
    "is_active_options = widgets.Dropdown(description = \"is_active\", options = data.is_active.unique(), value = None)\n",
    "device_model_options = widgets.Dropdown(description = \"device_model\", options = data.device_model.unique(), value = None)\n",
    "phone_brand_options = widgets.Dropdown(description = \"phone_brand\", options = data.phone_brand.unique(), value = None)\n",
    "town_options = widgets.Dropdown(description = \"town\", options = data.town.unique(), value = None)\n",
    "country_options = widgets.Dropdown(description = \"country\", options = data.country.unique(), value = None)\n",
    "age_group_options = widgets.Dropdown(description = \"age_group\", options = data.age_group.unique(), value = None)\n",
    "time_of_day_options = widgets.Dropdown(description = \"time_of_day\", options = data.time_of_day.unique(), value = None)\n",
    "category_options = widgets.Dropdown(description = \"category\", options = data.category.unique(), value = None)"
   ]
  },
  {
   "cell_type": "markdown",
   "metadata": {},
   "source": [
    "## User Interface"
   ]
  },
  {
   "cell_type": "code",
   "execution_count": 4,
   "metadata": {
    "scrolled": false,
    "slideshow": {
     "slide_type": "slide"
    }
   },
   "outputs": [
    {
     "data": {
      "application/vnd.jupyter.widget-view+json": {
       "model_id": "9ec5c55d22d043aa9c2ffe17a4d84193",
       "version_major": 2,
       "version_minor": 0
      },
      "text/plain": [
       "Dropdown(description='device_id', options=('-6754902882206380496', '5416618857406916680', '1698428484639625968…"
      ]
     },
     "metadata": {},
     "output_type": "display_data"
    },
    {
     "data": {
      "application/vnd.jupyter.widget-view+json": {
       "model_id": "71779186fda943d6b47670cddef9a582",
       "version_major": 2,
       "version_minor": 0
      },
      "text/plain": [
       "Dropdown(description='label_id', options=('704', '209', '303', '172', '190', '730', '262', '548', '163', '302'…"
      ]
     },
     "metadata": {},
     "output_type": "display_data"
    },
    {
     "data": {
      "application/vnd.jupyter.widget-view+json": {
       "model_id": "7a5df8c3955a47eea6d030f0afae4d9c",
       "version_major": 2,
       "version_minor": 0
      },
      "text/plain": [
       "Dropdown(description='app_id', options=('-145658454112781034', '2460654806659045896', '8693964245073640147', '…"
      ]
     },
     "metadata": {},
     "output_type": "display_data"
    },
    {
     "data": {
      "application/vnd.jupyter.widget-view+json": {
       "model_id": "dceccc01c5d94c038cfa9f3763b02b4f",
       "version_major": 2,
       "version_minor": 0
      },
      "text/plain": [
       "Dropdown(description='event_id', options=('35963', '1773101', '37174', '801589', '401759', '2703917', '1975583…"
      ]
     },
     "metadata": {},
     "output_type": "display_data"
    },
    {
     "data": {
      "application/vnd.jupyter.widget-view+json": {
       "model_id": "ed06ba1b4a9b434c839d748427142b96",
       "version_major": 2,
       "version_minor": 0
      },
      "text/plain": [
       "Dropdown(description='is_active', options=('0', '1'), value=None)"
      ]
     },
     "metadata": {},
     "output_type": "display_data"
    },
    {
     "data": {
      "application/vnd.jupyter.widget-view+json": {
       "model_id": "3afa68128f5c4c1fb93893bac811d6f2",
       "version_major": 2,
       "version_minor": 0
      },
      "text/plain": [
       "Dropdown(description='device_model', options=('超级手机1', 'Galaxy S5', '荣耀6 Plus', 'X6 D', '红米1S', '荣耀7', 'MI 4',…"
      ]
     },
     "metadata": {},
     "output_type": "display_data"
    },
    {
     "data": {
      "application/vnd.jupyter.widget-view+json": {
       "model_id": "b3be48caf32b4ca9b062b32cdd3aa0fb",
       "version_major": 2,
       "version_minor": 0
      },
      "text/plain": [
       "Dropdown(description='phone_brand', options=('lshi', 'samsung', 'Huawei', 'vivo', 'Xiaomi', 'meizu', 'Coolpad_…"
      ]
     },
     "metadata": {},
     "output_type": "display_data"
    },
    {
     "data": {
      "application/vnd.jupyter.widget-view+json": {
       "model_id": "c6e3ba6dc62848eda8c2e17c1375d25e",
       "version_major": 2,
       "version_minor": 0
      },
      "text/plain": [
       "Dropdown(description='town', options=('Chongqing', 'Henan', 'Shanxi', 'None', 'Hebei', 'Guangdong Sheng', 'Und…"
      ]
     },
     "metadata": {},
     "output_type": "display_data"
    },
    {
     "data": {
      "application/vnd.jupyter.widget-view+json": {
       "model_id": "701da8ac8dd143e7ba4bd18ab2583d80",
       "version_major": 2,
       "version_minor": 0
      },
      "text/plain": [
       "Dropdown(description='country', options=('China', 'Undefined', 'Canada', 'Myanmar (Burma)', 'Kazakhstan', 'Aus…"
      ]
     },
     "metadata": {},
     "output_type": "display_data"
    },
    {
     "data": {
      "application/vnd.jupyter.widget-view+json": {
       "model_id": "0b9e66de423b425fb960e54002f5e757",
       "version_major": 2,
       "version_minor": 0
      },
      "text/plain": [
       "Dropdown(description='age_group', options=('26-35', '22-26', '35-50', '59-90', '17-22', '50-59', '0-17'), valu…"
      ]
     },
     "metadata": {},
     "output_type": "display_data"
    },
    {
     "data": {
      "application/vnd.jupyter.widget-view+json": {
       "model_id": "85891528f6f74316a1862c0631d9126b",
       "version_major": 2,
       "version_minor": 0
      },
      "text/plain": [
       "Dropdown(description='time_of_day', options=('morning', 'evening', 'midnight', 'noon'), value=None)"
      ]
     },
     "metadata": {},
     "output_type": "display_data"
    },
    {
     "data": {
      "application/vnd.jupyter.widget-view+json": {
       "model_id": "6b1aa21885cc4c18ae662dba7eba9e4e",
       "version_major": 2,
       "version_minor": 0
      },
      "text/plain": [
       "Dropdown(description='category', options=('industry', 'social', 'other', 'travel', 'utilities', 'finance', 'ec…"
      ]
     },
     "metadata": {},
     "output_type": "display_data"
    },
    {
     "data": {
      "application/vnd.jupyter.widget-view+json": {
       "model_id": "a7abe53fefb24291886e2ada123c9de9",
       "version_major": 2,
       "version_minor": 0
      },
      "text/plain": [
       "Button(button_style='danger', description='Logistic Regression Prediction', style=ButtonStyle())"
      ]
     },
     "metadata": {},
     "output_type": "display_data"
    },
    {
     "data": {
      "application/vnd.jupyter.widget-view+json": {
       "model_id": "f8e5cd77bb634c84bd87aa9fa7e9cfc3",
       "version_major": 2,
       "version_minor": 0
      },
      "text/plain": [
       "Button(button_style='danger', description='Random Forest Prediction', style=ButtonStyle())"
      ]
     },
     "metadata": {},
     "output_type": "display_data"
    },
    {
     "data": {
      "application/vnd.jupyter.widget-view+json": {
       "model_id": "c158f81ef98248c38be403c8dc89dd51",
       "version_major": 2,
       "version_minor": 0
      },
      "text/plain": [
       "Button(button_style='danger', description='Gradient Boosting Prediction', style=ButtonStyle())"
      ]
     },
     "metadata": {},
     "output_type": "display_data"
    },
    {
     "name": "stdout",
     "output_type": "stream",
     "text": [
      "Random Forest Predicted Result for the selection is -  -  Female\n",
      "Logistic Regression Predicted Result for the selection is -  Male\n",
      "Gradient Boost Predicted Result for the selection is -  Female\n",
      "Random Forest Predicted Result for the selection is -  -  Female\n",
      "Logistic Regression Predicted Result for the selection is -  Male\n",
      "Gradient Boost Predicted Result for the selection is -  Female\n"
     ]
    }
   ],
   "source": [
    "device_id_options\n",
    "label_id_options\n",
    "app_id_options\n",
    "event_id_options\n",
    "is_active_options\n",
    "device_model_options\n",
    "phone_brand_options\n",
    "town_options\n",
    "country_options\n",
    "age_group_options\n",
    "time_of_day_options\n",
    "category_options\n",
    "\n",
    "\n",
    "from IPython.display import display\n",
    "button1 = widgets.Button(description=\"Logistic Regression Prediction\", button_style='danger')\n",
    "display(button1)\n",
    "\n",
    "button2 = widgets.Button(description=\"Random Forest Prediction\", button_style='danger')\n",
    "display(button2)\n",
    "\n",
    "button3 = widgets.Button(description=\"Gradient Boosting Prediction\", button_style='danger')\n",
    "display(button3)\n",
    "\n",
    "def logistic_regression_predict(b):\n",
    "    value = predict(device_id_options,\n",
    "    label_id_options,\n",
    "    app_id_options,\n",
    "    event_id_options,\n",
    "    is_active_options,\n",
    "    device_model_options,\n",
    "    phone_brand_options,\n",
    "    town_options,\n",
    "    country_options,\n",
    "    age_group_options,\n",
    "    time_of_day_options,\n",
    "    category_options,\n",
    "    \"logistic\")\n",
    "    \n",
    "    gender = None\n",
    "    \n",
    "    if value[0][\"prediction\"] == 1.0:\n",
    "        gender = \"Female\"\n",
    "    else:\n",
    "        gender = \"Male\"\n",
    "    \n",
    "    print('Logistic Regression Predicted Result for the selection is - ', gender)\n",
    "        \n",
    "def random_forest_predict(b):\n",
    "    value = predict(device_id_options,\n",
    "    label_id_options,\n",
    "    app_id_options,\n",
    "    event_id_options,\n",
    "    is_active_options,\n",
    "    device_model_options,\n",
    "    phone_brand_options,\n",
    "    town_options,\n",
    "    country_options,\n",
    "    age_group_options,\n",
    "    time_of_day_options,\n",
    "    category_options,\n",
    "    \"random_forest\")\n",
    "    \n",
    "    gender = None\n",
    "    \n",
    "    if value[0][\"prediction\"] == 1.0:\n",
    "        gender = \"Female\"\n",
    "    else:\n",
    "        gender = \"Male\"\n",
    "    \n",
    "    print('Random Forest Predicted Result for the selection is -  - ', gender)\n",
    "        \n",
    "        \n",
    "def gradient_boost_predict(b):\n",
    "    value = predict(device_id_options,\n",
    "    label_id_options,\n",
    "    app_id_options,\n",
    "    event_id_options,\n",
    "    is_active_options,\n",
    "    device_model_options,\n",
    "    phone_brand_options,\n",
    "    town_options,\n",
    "    country_options,\n",
    "    age_group_options,\n",
    "    time_of_day_options,\n",
    "    category_options,\n",
    "    \"gbt\")\n",
    "    \n",
    "    gender = None\n",
    "    \n",
    "    if value[0][\"prediction\"] == 1.0:\n",
    "        gender = \"Female\"\n",
    "    else:\n",
    "        gender = \"Male\"\n",
    "\n",
    "    \n",
    "    print('Gradient Boost Predicted Result for the selection is - ', gender)\n",
    "\n",
    "button1.on_click(random_forest_predict)\n",
    "button2.on_click(logistic_regression_predict)\n",
    "button3.on_click(gradient_boost_predict)\n"
   ]
  },
  {
   "cell_type": "code",
   "execution_count": null,
   "metadata": {},
   "outputs": [],
   "source": []
  }
 ],
 "metadata": {
  "kernelspec": {
   "display_name": "Python 3",
   "language": "python",
   "name": "python3"
  },
  "language_info": {
   "codemirror_mode": {
    "name": "ipython",
    "version": 3
   },
   "file_extension": ".py",
   "mimetype": "text/x-python",
   "name": "python",
   "nbconvert_exporter": "python",
   "pygments_lexer": "ipython3",
   "version": "3.6.7"
  }
 },
 "nbformat": 4,
 "nbformat_minor": 2
}
